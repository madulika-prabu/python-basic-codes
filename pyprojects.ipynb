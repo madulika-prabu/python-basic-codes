{
  "nbformat": 4,
  "nbformat_minor": 0,
  "metadata": {
    "colab": {
      "provenance": [],
      "authorship_tag": "ABX9TyNXAsxo3IIvsKUhobTcpqzT",
      "include_colab_link": true
    },
    "kernelspec": {
      "name": "python3",
      "display_name": "Python 3"
    },
    "language_info": {
      "name": "python"
    }
  },
  "cells": [
    {
      "cell_type": "markdown",
      "metadata": {
        "id": "view-in-github",
        "colab_type": "text"
      },
      "source": [
        "<a href=\"https://colab.research.google.com/github/madulika-prabu/python-basic-codes/blob/main/pyprojects.ipynb\" target=\"_parent\"><img src=\"https://colab.research.google.com/assets/colab-badge.svg\" alt=\"Open In Colab\"/></a>"
      ]
    },
    {
      "cell_type": "markdown",
      "source": [
        "Google Search"
      ],
      "metadata": {
        "id": "KFK5w0-0sexv"
      }
    },
    {
      "cell_type": "code",
      "execution_count": 1,
      "metadata": {
        "id": "Tv7e6i_qL6ia",
        "colab": {
          "base_uri": "https://localhost:8080/"
        },
        "outputId": "29d38728-9433-43f3-bf6d-3937d6bf53ce"
      },
      "outputs": [
        {
          "output_type": "stream",
          "name": "stdout",
          "text": [
            "Enter a query \n",
            "Who is Gandhi?\n",
            "https://www.bl.uk/people/mahatma-gandhi\n",
            "https://www.britannica.com/biography/Mahatma-Gandhi\n",
            "https://www.britannica.com/summary/Mahatma-Gandhi\n",
            "https://www.britannica.com/biography/Mahatma-Gandhi/Place-in-history\n",
            "https://www.britannica.com/summary/Mahatma-Gandhi-Timeline\n",
            "https://www.britannica.com/quotes/Mahatma-Gandhi\n",
            "https://en.wikipedia.org/wiki/Mahatma_Gandhi\n",
            "https://en.wikipedia.org/wiki/Assassination_of_Mahatma_Gandhi\n",
            "https://en.wikipedia.org/wiki/Harilal_Gandhi\n",
            "https://en.wikipedia.org/wiki/Devdas_Gandhi\n"
          ]
        }
      ],
      "source": [
        "#modules--> google, beautifulsoup4\n",
        "'''pip install google\n",
        "pip install beautifulsoup4'''\n",
        "\n",
        "#functions and parameter\n",
        "# fn=search(query,tld,num,stop,pause)\n",
        "'''\n",
        "query-->string that we want to search for\n",
        "tld-->top level domain-->search our result in google.com or google.in or in any domain\n",
        "num-->no of result we want\n",
        "stop-->last result to retrieve-->use None to keep searching forever\n",
        "pause-->lapse to wait between HTTP request\n",
        "'''\n",
        "\n",
        "try:\n",
        "    from googlesearch import search\n",
        "except ImportError:\n",
        "    print(\"module not found\")\n",
        "query=input('Enter a query \\n')\n",
        "for i in search(query,tld='com',num=10,stop=10,pause=2):\n",
        "    print(i)"
      ]
    },
    {
      "cell_type": "markdown",
      "source": [
        "get domain details"
      ],
      "metadata": {
        "id": "jY9bRYYa3Zy9"
      }
    },
    {
      "cell_type": "code",
      "source": [
        "pip install python-whois"
      ],
      "metadata": {
        "colab": {
          "base_uri": "https://localhost:8080/"
        },
        "id": "g998-35U6ayi",
        "outputId": "2ec0228c-7cc3-429b-d350-898480674349"
      },
      "execution_count": 2,
      "outputs": [
        {
          "output_type": "stream",
          "name": "stdout",
          "text": [
            "Looking in indexes: https://pypi.org/simple, https://us-python.pkg.dev/colab-wheels/public/simple/\n",
            "Collecting python-whois\n",
            "  Downloading python-whois-0.8.0.tar.gz (109 kB)\n",
            "\u001b[2K     \u001b[90m━━━━━━━━━━━━━━━━━━━━━━━━━━━━━━━━━━━━━━━\u001b[0m \u001b[32m109.6/109.6 kB\u001b[0m \u001b[31m7.3 MB/s\u001b[0m eta \u001b[36m0:00:00\u001b[0m\n",
            "\u001b[?25h  Preparing metadata (setup.py) ... \u001b[?25l\u001b[?25hdone\n",
            "Requirement already satisfied: future in /usr/local/lib/python3.10/dist-packages (from python-whois) (0.18.3)\n",
            "Building wheels for collected packages: python-whois\n",
            "  Building wheel for python-whois (setup.py) ... \u001b[?25l\u001b[?25hdone\n",
            "  Created wheel for python-whois: filename=python_whois-0.8.0-py3-none-any.whl size=103247 sha256=8feb442706e42b386ca47afe9bef054de837e357e61956c677bafec01e0140d6\n",
            "  Stored in directory: /root/.cache/pip/wheels/10/f1/87/145023b9a206e2e948be6480c61ef3fd3dbb81ef11b6977782\n",
            "Successfully built python-whois\n",
            "Installing collected packages: python-whois\n",
            "Successfully installed python-whois-0.8.0\n"
          ]
        }
      ]
    },
    {
      "cell_type": "code",
      "source": [
        "#modules-->python-whois\n",
        "#pip install python-whois\n",
        "import whois\n",
        "\n",
        "def domain_info(link):\n",
        "  domain=whois.whois(url)\n",
        "  print(f'server:{domain.whois_server}')\n",
        "  print(f'expiration:{domain.expiration_date}')\n",
        "  print(f'name:{domain.name}')\n",
        "  print(f'organisation:{domain.org}')\n",
        "  print(f'state:{domain.state}')\n",
        "  print(f'city:{domain.city}')\n",
        "  print(f'country:{domain.country}')\n",
        "\n",
        "url=input('enter URL \\n')\n",
        "\n",
        "try:\n",
        "  domain=whois.whois(url)\n",
        "except:\n",
        "  print('this domain is available')\n",
        "else:\n",
        "  print('this domain is already purchased')\n",
        "  print('domain information \\n')\n",
        "  domain_info(url)"
      ],
      "metadata": {
        "colab": {
          "base_uri": "https://localhost:8080/"
        },
        "id": "JqFr5gLT3hwM",
        "outputId": "45813096-83d0-47cb-c888-ef010edbdab6"
      },
      "execution_count": 3,
      "outputs": [
        {
          "output_type": "stream",
          "name": "stdout",
          "text": [
            "enter URL \n",
            "https://saranathan.ac.in/\n",
            "this domain is already purchased\n",
            "domain information \n",
            "\n",
            "server:None\n",
            "expiration:2031-02-28 05:00:00\n",
            "name:None\n",
            "organisation:None\n",
            "state:None\n",
            "city:None\n",
            "country:IN\n"
          ]
        }
      ]
    },
    {
      "cell_type": "markdown",
      "source": [
        "send email"
      ],
      "metadata": {
        "id": "zXobe0L-NPVW"
      }
    },
    {
      "cell_type": "code",
      "source": [
        "# email sender\n",
        "\n",
        "import smtplib\n",
        "\n",
        "def SendEmail(to, content):\n",
        "  server=smtplib.SMTP('smtp.gmail.com',587)\n",
        "  server.ehlo()  #ehlo is an smtp command sent by mail server to identify itself when connencting to another email server\n",
        "  server.starttls() #starttls start negotiation between server and client\n",
        "  server.login('madulikaprabusankar@gmail.com','ndcstyfoyoslenyl') #your email , third party email login password\n",
        "  server.sendmail('madulikaprabusankar@gmail.com',to, content)\n",
        "  server.close()\n",
        "\n",
        "if __name__=='__main__':\n",
        "  try:\n",
        "    content=input('type your text \\n')\n",
        "    to=input('whom to send email? \\n')\n",
        "    SendEmail(to,content)\n",
        "    print('email has been sent')\n",
        "  except Exception as e:\n",
        "    print(e)\n",
        "    print('sorry, email not sent')\n",
        "\n",
        "\n",
        "\n",
        "\n"
      ],
      "metadata": {
        "colab": {
          "base_uri": "https://localhost:8080/"
        },
        "id": "hbGFTKfWNYBR",
        "outputId": "21942df6-2691-4fe2-ee2b-8e4f55819155"
      },
      "execution_count": 9,
      "outputs": [
        {
          "output_type": "stream",
          "name": "stdout",
          "text": [
            "type your text \n",
            "hi\n",
            "whom to send email? \n",
            "madymusiq@gmail.com\n",
            "email has been sent\n"
          ]
        }
      ]
    },
    {
      "cell_type": "markdown",
      "source": [
        "web alarm for browser"
      ],
      "metadata": {
        "id": "hE0XzAkzYHxj"
      }
    },
    {
      "cell_type": "code",
      "source": [
        "import time\n",
        "import webbrowser\n",
        "\n",
        "set_alarm=input('set the website alarm as H:M:S')\n",
        "url=input('enter the website URL')\n",
        "actual_time=time.strftime('%I:%M:%S')\n",
        "\n",
        "while(actual_time!=set_alarm):\n",
        "  print('the alarm is ' + actual_time)\n",
        "  actual_time=time.strftime('%I:%M:%S')\n",
        "  time.sleep(1)\n",
        "\n",
        "if(actual_time==set_alarm):\n",
        "  print('your webpage is opening')\n",
        "  webbrowser.open(url)\n"
      ],
      "metadata": {
        "colab": {
          "base_uri": "https://localhost:8080/",
          "height": 423
        },
        "id": "aeq5KVSRYONV",
        "outputId": "9c2dec67-acdd-40e0-d877-9434bdf7d406"
      },
      "execution_count": 10,
      "outputs": [
        {
          "output_type": "stream",
          "name": "stdout",
          "text": [
            "the alarm is03:07:34\n",
            "the alarm is03:07:35\n",
            "the alarm is03:07:36\n",
            "the alarm is03:07:37\n",
            "the alarm is03:07:38\n",
            "the alarm is03:07:39\n",
            "the alarm is03:07:40\n",
            "the alarm is03:07:41\n",
            "the alarm is03:07:42\n",
            "the alarm is03:07:43\n"
          ]
        },
        {
          "output_type": "error",
          "ename": "KeyboardInterrupt",
          "evalue": "ignored",
          "traceback": [
            "\u001b[0;31m---------------------------------------------------------------------------\u001b[0m",
            "\u001b[0;31mKeyboardInterrupt\u001b[0m                         Traceback (most recent call last)",
            "\u001b[0;32m<ipython-input-10-1b43bd57eb18>\u001b[0m in \u001b[0;36m<cell line: 8>\u001b[0;34m()\u001b[0m\n\u001b[1;32m      9\u001b[0m   \u001b[0mprint\u001b[0m\u001b[0;34m(\u001b[0m\u001b[0;34m'the alarm is'\u001b[0m \u001b[0;34m+\u001b[0m \u001b[0mactual_time\u001b[0m\u001b[0;34m)\u001b[0m\u001b[0;34m\u001b[0m\u001b[0;34m\u001b[0m\u001b[0m\n\u001b[1;32m     10\u001b[0m   \u001b[0mactual_time\u001b[0m\u001b[0;34m=\u001b[0m\u001b[0mtime\u001b[0m\u001b[0;34m.\u001b[0m\u001b[0mstrftime\u001b[0m\u001b[0;34m(\u001b[0m\u001b[0;34m'%I:%M:%S'\u001b[0m\u001b[0;34m)\u001b[0m\u001b[0;34m\u001b[0m\u001b[0;34m\u001b[0m\u001b[0m\n\u001b[0;32m---> 11\u001b[0;31m   \u001b[0mtime\u001b[0m\u001b[0;34m.\u001b[0m\u001b[0msleep\u001b[0m\u001b[0;34m(\u001b[0m\u001b[0;36m1\u001b[0m\u001b[0;34m)\u001b[0m\u001b[0;34m\u001b[0m\u001b[0;34m\u001b[0m\u001b[0m\n\u001b[0m\u001b[1;32m     12\u001b[0m \u001b[0;34m\u001b[0m\u001b[0m\n\u001b[1;32m     13\u001b[0m \u001b[0;32mif\u001b[0m\u001b[0;34m(\u001b[0m\u001b[0mactual_time\u001b[0m\u001b[0;34m==\u001b[0m\u001b[0mset_alarm\u001b[0m\u001b[0;34m)\u001b[0m\u001b[0;34m:\u001b[0m\u001b[0;34m\u001b[0m\u001b[0;34m\u001b[0m\u001b[0m\n",
            "\u001b[0;31mKeyboardInterrupt\u001b[0m: "
          ]
        }
      ]
    },
    {
      "cell_type": "markdown",
      "source": [
        "voice output function\n"
      ],
      "metadata": {
        "id": "B-oyRhzabp98"
      }
    },
    {
      "cell_type": "code",
      "source": [],
      "metadata": {
        "id": "Fxfnb6cTbvLd"
      },
      "execution_count": null,
      "outputs": []
    }
  ]
}